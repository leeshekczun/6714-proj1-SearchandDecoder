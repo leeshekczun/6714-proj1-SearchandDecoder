{
 "cells": [
  {
   "cell_type": "markdown",
   "metadata": {},
   "source": [
    "# COMP6714-Project 1\n",
    "\n",
    "### Submission Deadline for the Project is 23:59:59 PM, on **25 Sep, 2017** \n",
    "\n",
    "This ipython notebook illustrates the requirements for **COMP6714 Project-1**.\n",
    "\n",
    "## Instructions:\n",
    "1. You need to implement your code in **`submission.py`** file, provided along with this notebook.\n",
    "2. For all questions, your codes in the file **`submission.py`** need to output your results according to corresponding format specified in **`Proj1-spec.ipynb`**.\n",
    "3. We will not consider any output printed out on the screen. All results should be returned in appropriate data structures return by corresponding functions.\n",
    "4. This Project is not designed to be a full-fledged software program, so we will not evaluate it deliberately using any invalid inputs.\n",
    "5. You are **not allowed** to change the names of the functions to be submitted in **`submission.py`**. \n",
    "6. If you choose to skip a question, leave the corresponding function body in the file **submission.py** as it is (i.e., keep the **`pass`** line), otherwise it will affect your marks for other questions.\n",
    "7. You are allowed to add other functions and import modules (which you may have to in this project), but you are **not allowed to define global variables**, i.e., **only functions are allowed** in **`submission.py`**. Also be careful not to import unnecessary modules, as it may lead to unexpected errors.\n",
    "8. You are allowed to submit as many times as you want before the deadline, but **ONLY the latest version will be kept and marked**.\n",
    "9. For your convenience, we will process your codes submitted before the **Deadline** using a sample dataset, you should not consider these results as your final grades.\n",
    "10. For **Final Grades** we will be using a different test data, so your final scores may vary. We will also check the source code to **ensure** the algorithms specified in the project are implemented. "
   ]
  },
  {
   "cell_type": "markdown",
   "metadata": {},
   "source": [
    "# Question 0: An example (0 point)\n",
    "\n",
    "We illustrate the steps for completing the **project** notebook and prepare **`submission.py`** by solving the `Question 0`. In this example question, you are required to implement a function that takes two integer arguments `a` and `b`, and output their sum.\n",
    "\n",
    "You will be provided with the definition of the function, as given below:"
   ]
  },
  {
   "cell_type": "code",
   "execution_count": 1,
   "metadata": {
    "collapsed": true
   },
   "outputs": [],
   "source": [
    "def add(a, b): # do not change the heading of the function\n",
    "    pass # **replace** this line with your code"
   ]
  },
  {
   "cell_type": "markdown",
   "metadata": {},
   "source": [
    "**Step 1**: You need to put your implementation in the function body like below **(you should remove the `pass` line from the function body)**:"
   ]
  },
  {
   "cell_type": "code",
   "execution_count": 2,
   "metadata": {
    "collapsed": true
   },
   "outputs": [],
   "source": [
    "def add(a, b): # do not change the heading of the function\n",
    "    return a + b"
   ]
  },
  {
   "cell_type": "markdown",
   "metadata": {},
   "source": [
    "**Step 2**: you need to paste your code to **`submission.py`**, which originally contains only function definitions. We have added this function in **`submission.py`** as a sample solution to **Question 0** for your reference."
   ]
  },
  {
   "cell_type": "markdown",
   "metadata": {},
   "source": [
    "Here is the demonstration of our testing environment, which explains how we will evaluate your submission. "
   ]
  },
  {
   "cell_type": "code",
   "execution_count": 3,
   "metadata": {
    "collapsed": false
   },
   "outputs": [
    {
     "name": "stdout",
     "output_type": "stream",
     "text": [
      "8\n"
     ]
    }
   ],
   "source": [
    "import submission\n",
    "\n",
    "result = submission.add(5,3)\n",
    "print(result)"
   ]
  },
  {
   "cell_type": "markdown",
   "metadata": {},
   "source": [
    "As you can see, all you need to/have to do is to implement the function; do not print anything out from your own implementation. (c.f., Instruction-#3)\n",
    "<br />\n",
    "<br />\n",
    "<br />\n",
    "<br />\n",
    "<br />\n"
   ]
  },
  {
   "cell_type": "markdown",
   "metadata": {},
   "source": [
    "# Question 1: List Intersection using Galloping Search (35 point)\n",
    "\n",
    "You need to implement a function named **`gallop_to`** using the galloping search algorithm. The function will be used to help the intersection of inverted lists. You may refer to **Note 1** on the course webpage for detailed information about this algorithm."
   ]
  },
  {
   "cell_type": "markdown",
   "metadata": {},
   "source": [
    "## The InvertedList class\n",
    "\n",
    "To facilitate the implementation of `Question 1`, we provide this `InvertedList` class which encapsulates all the important *operations* needed to be performed on an inverted list. "
   ]
  },
  {
   "cell_type": "code",
   "execution_count": 4,
   "metadata": {
    "collapsed": true
   },
   "outputs": [],
   "source": [
    "class InvertedList:\n",
    "    def __init__(self, l):\n",
    "        self.data = l[:] # make a copy\n",
    "        self.cur = 0     # the cursor \n",
    "\n",
    "    def get_list(self):\n",
    "        return self.data\n",
    " \n",
    "    def eol(self):\n",
    "        # we use cur == len(list) to indicate EOL\n",
    "        return False if self.cur < len(self.data) else True\n",
    "    \n",
    "    def next(self, val = 1):\n",
    "        # does not allow cur to be out-of-range, but use len(list) to indicate EOL\n",
    "        self.cur = min(self.cur + val, len(self.data)) \n",
    "            \n",
    "    def elem(self):\n",
    "        if self.eol():\n",
    "            return None\n",
    "        else: \n",
    "            return self.data[self.cur]\n",
    "    def peek(self, pos):\n",
    "        # look at the element under the current cursor, but does not advance the cursor. \n",
    "        if pos < len(self.data):\n",
    "            return self.data[pos]\n",
    "        else:\n",
    "            return None\n",
    "    def reset(self):\n",
    "        self.cur = 0"
   ]
  },
  {
   "cell_type": "markdown",
   "metadata": {},
   "source": [
    "The `gallop_to()` function takes two arguments which are an `InvertedList` (i.e., `a`) and an integer (i.e., `val`). \n",
    "The function must **move the cursor** (i.e., `a.cur`) to position `x`, such that the corresponding `a[x]` is the **first** element in ```a``` which is **no less** than `val` **according to** the Galloping search algorithm.\n",
    "\n",
    "You need to implement your code below, and copy this code in the file **`submission.py`**"
   ]
  },
  {
   "cell_type": "code",
   "execution_count": 5,
   "metadata": {
    "collapsed": true
   },
   "outputs": [],
   "source": [
    "def gallop_to(a, val):# do not change the heading of the function\n",
    "    pass # **replace** this line with your code"
   ]
  },
  {
   "cell_type": "markdown",
   "metadata": {},
   "source": [
    "## Intersection Algorithm using `gallop_to()`\n",
    "\n",
    "The `gallop_to()` function can be used in the intersection algorithm, *i.e.*, `intersection_galloping`, and it can quickly skip over the list to reposition the cursor."
   ]
  },
  {
   "cell_type": "code",
   "execution_count": 6,
   "metadata": {
    "collapsed": true
   },
   "outputs": [],
   "source": [
    "import submission\n",
    "\n",
    "def intersection_galloping(a, b):\n",
    "    # just in case these lists have been traversed.\n",
    "    a.reset()\n",
    "    b.reset()\n",
    "    count = 0\n",
    "\n",
    "    ret = []\n",
    "    while not a.eol() and not b.eol():\n",
    "        if a.elem() == b.elem():\n",
    "            ret.append(a.elem())\n",
    "            a.next()  # Note that here you are only allowed to move the cursor of one InvertedList Object. \n",
    "        else:\n",
    "            if a.elem() < b.elem():\n",
    "                submission.gallop_to(a,b.elem())\n",
    "            else:\n",
    "                submission.gallop_to(b,a.elem())\n",
    "    # end_while\n",
    "    return ret"
   ]
  },
  {
   "cell_type": "markdown",
   "metadata": {},
   "source": [
    "Below is an example:"
   ]
  },
  {
   "cell_type": "code",
   "execution_count": 7,
   "metadata": {
    "collapsed": false
   },
   "outputs": [
    {
     "name": "stdout",
     "output_type": "stream",
     "text": [
      "[2, 4, 8, 16]\n"
     ]
    }
   ],
   "source": [
    "a = InvertedList([2, 4, 6, 8, 10, 12, 14, 16, 18])\n",
    "b = InvertedList([1, 2, 4, 8, 16, 32])\n",
    "result = intersection_galloping(a, b)\n",
    "print(result)"
   ]
  },
  {
   "cell_type": "markdown",
   "metadata": {},
   "source": [
    "# Question 2: Logarithmic Merge (35 point)\n",
    "\n",
    "In this question, we simulate the implementation of (binary) Logarithmic_Merge for Index Merging, given in **L4-slides (36-37)**.\n",
    "You are required to implement the Logarithmic Megre function: **`Logarithmic_merge(index, cut_off, buffer_size)`**.\n",
    "\n",
    "The function takes 3 parameters as input,i.e., *(i)* **index**, *(ii)* **cut_off**, and *(iii)* **buffer_size**.\n",
    "1. First parameter, **index**, represents the live streaming index, we simulate the **index** using a list of unordered integers.\n",
    "2. Second parameter, **cut_off**, is the cut_off point for the streaming **index**, it is illustrated in the example below.\n",
    "3. Third parameter, **buffer_size**, represents the maximum size of your memory buffer. When **index** is **greater than or equal** to the **buffer_size**, we write down the **index** in a file.\n",
    "\n",
    "##### Note: You are not supposed to actually write down your index in the file, you will be simulating the index writing part by adding the index to a list.\n",
    "\n",
    "#### Example for cut_off:\n",
    "index = [15, 46, 19, 93, 73, 64, 33, 80, 73, 26, 22, **-77-**, 27, .....]\n",
    "\n",
    "Assume that you have access to live-streaming data, which is being populated in your list named: **index**. The parameter, **cut_off** defines a threshold for the **index**. For-example, **cut_off = 12** will restrict the function:**`Logarithmic_merge(index, cut_off, buffer_size)`** to use **top 12** values, i.e., it will only consider values upto and including the value **77**. \n",
    "\n",
    "#### Specifications:\n",
    "Your inputs will be the *(i)* **index**, i.e., unsorted list of integers, *(ii)* **cut_off**, *i.e.,* the cut-off point, and *(iii)* **buffer_size**, *i.e.,* the maximum size of index that can be kept in memory. \n",
    "\n",
    "Your output should be a list of sub-lists, where each sub-list stores intermediate result of logarithmic merge. First sub-list will store the value for Z0, the second sub-list will store the value of L0, and the subsequent sub-lists will store values for L1, L2, L3 and so on...\n",
    "##### Note: Don't remove empty sub-lists from your final result. It will effect your evaluation.\n",
    "\n",
    "#### Example:\n",
    "\n",
    " ##### input: (index, cut_off, buffer_size), e.g., ([15, 46, 19, 93, 73, 64, 33, 80, 73, 26, 22, 77, 27], 10, 3)\n",
    " \n",
    " ##### output: List of sub-lists storing all the intermediate results, and the final result, e.g., [[26], [33, 73, 80], [15, 19, 46, 64, 73, 93]].\n",
    " \n",
    "**Note**:<br>\n",
    "1. Z0 should be added at the start of the final list, followed by L0, L1, L3, and so on... <br>\n",
    "2. In the example output, Z0 = [26], L0 = [33, 73, 80], L1 = [15, 19, 46, 64, 73, 93] <br>\n",
    "3. **index** within a sub-list should be sorted. <br>"
   ]
  },
  {
   "cell_type": "markdown",
   "metadata": {},
   "source": [
    "You need to implement your code below, and copy this code in the file **`submission.py`**"
   ]
  },
  {
   "cell_type": "code",
   "execution_count": 8,
   "metadata": {
    "collapsed": true
   },
   "outputs": [],
   "source": [
    "def Logarithmic_merge(index, cut_off, buffer_size): # do not change the function heading\n",
    "    copy = []\n",
    "    for i in range (0,cut_off):\n",
    "        copy.append(index[i])\n",
    "    test = []\n",
    "    for j in range (0,len(copy),buffer_size):\n",
    "        group = copy[i:i+buffer_size]\n",
    "        group.sort\n",
    "        test.append(group)\n",
    "    \n",
    "    pass # **replace** this line with your code"
   ]
  },
  {
   "cell_type": "markdown",
   "metadata": {},
   "source": [
    "After implementation of **`Logarithmic_merge`**, you can test your implementation here. You should see the following output:\n",
    "\n",
    "[[26], [33, 73, 80], [15, 19, 46, 64, 73, 93]]"
   ]
  },
  {
   "cell_type": "code",
   "execution_count": 9,
   "metadata": {
    "collapsed": false
   },
   "outputs": [
    {
     "name": "stdout",
     "output_type": "stream",
     "text": [
      "[[26], [15, 19, 46, 64, 73, 93], [33, 73, 80]]\n"
     ]
    }
   ],
   "source": [
    "import random\n",
    "import submission\n",
    "\n",
    "random.seed(1999)\n",
    "n = 13\n",
    "index = [random.randint(1, 100) for _ in range(n)]\n",
    "\n",
    "result = submission.Logarithmic_merge(index, 10, 3) #cut_off = 10, initial buffer_size = 3\n",
    "print(result) # expect to see a list of lists"
   ]
  },
  {
   "cell_type": "markdown",
   "metadata": {},
   "source": [
    "# Question 3: Decoders for Gamma, Delta, and Rice codes (30 point)\n",
    "\n",
    "In this part you will implement decoders for Gamma, Delta, and Rice codes.\n",
    "\n",
    "#### Specifications:\n",
    "For Gamma, and Delta decoders, your input will be a string of bits (0s or 1s) without any space. Your output for Gamma, and Delta decoders should be a list of integers. \n",
    "For Rice decoder, input constitutes of the *(i)* code, i.e., a string of bits (0s or 1s) without any space, and *(ii)* an integer representing the value of b. Here b = 2^k. Output of Rice decoder should be a list of integers.\n",
    "\n",
    "##### Note, for Rice Decoder, in contrast to the information provided in (L5, slide57), we assume the input of the decoder is comig from q = [x]/b, and r = (x) - (q.b). \n",
    "\n",
    "#### (i) Examples for Gamma and Delta:\n",
    "\n",
    " ##### (a) input: (String x), e.g., (\"1111111100000000011111111000001001\")\n",
    " \n",
    " ##### (b) output: list of numbers, e.g., [256, 265]\n",
    " \n",
    "#### (ii) Example for Rice Decoder:\n",
    " ##### (a) input: (String x , int b) e.g., (\"11110101111011\",4)\n",
    " \n",
    " ##### (b) output: list of numbers, e.g., [18, 19]"
   ]
  },
  {
   "cell_type": "markdown",
   "metadata": {},
   "source": [
    "You need to implement your code below, and copy this code in the file **`submission.py`**"
   ]
  },
  {
   "cell_type": "code",
   "execution_count": 10,
   "metadata": {
    "collapsed": true
   },
   "outputs": [],
   "source": [
    "def decode_gamma(inputs):# do not change the function heading\n",
    "    pass # **replace** this line with your code"
   ]
  },
  {
   "cell_type": "markdown",
   "metadata": {},
   "source": [
    "After implementation of **`decode_gamma`**, you can test your implementation here. You should see the following output [256, 265]"
   ]
  },
  {
   "cell_type": "code",
   "execution_count": 11,
   "metadata": {
    "collapsed": false
   },
   "outputs": [
    {
     "name": "stdout",
     "output_type": "stream",
     "text": [
      "[256, 265]\n"
     ]
    }
   ],
   "source": [
    "import submission\n",
    "inputs = \"1111111100000000011111111000001001\"\n",
    "result = submission.decode_gamma(inputs)\n",
    "print(result)"
   ]
  },
  {
   "cell_type": "markdown",
   "metadata": {},
   "source": [
    "You need to implement your code below, and copy this code in the file **`submission.py`**"
   ]
  },
  {
   "cell_type": "code",
   "execution_count": 12,
   "metadata": {
    "collapsed": true
   },
   "outputs": [],
   "source": [
    "def decode_delta(inputs):# do not change the function heading\n",
    "    pass # **replace** this line with your code"
   ]
  },
  {
   "cell_type": "markdown",
   "metadata": {
    "collapsed": true
   },
   "source": [
    "After implementation of **`decode_delta`**, you can test your implementation here. You should see the following output: [256, 265]"
   ]
  },
  {
   "cell_type": "code",
   "execution_count": 13,
   "metadata": {
    "collapsed": false
   },
   "outputs": [
    {
     "name": "stdout",
     "output_type": "stream",
     "text": [
      "[256, 265]\n"
     ]
    }
   ],
   "source": [
    "import submission\n",
    "inputs = \"111000100000000111000100001001\"\n",
    "result = submission.decode_delta(inputs)\n",
    "print(result)"
   ]
  },
  {
   "cell_type": "markdown",
   "metadata": {},
   "source": [
    "You need to implement your code below, and copy this code in the file **`submission.py`**"
   ]
  },
  {
   "cell_type": "code",
   "execution_count": 14,
   "metadata": {
    "collapsed": true
   },
   "outputs": [],
   "source": [
    "def decode_rice(inputs, b):# do not change the function heading\n",
    "    pass # **replace** this line with your code"
   ]
  },
  {
   "cell_type": "markdown",
   "metadata": {
    "collapsed": true
   },
   "source": [
    "After implementation of **`decode_rice`**, you can test your implementation here. you should see the following output: [18, 19]"
   ]
  },
  {
   "cell_type": "code",
   "execution_count": 15,
   "metadata": {
    "collapsed": false
   },
   "outputs": [
    {
     "name": "stdout",
     "output_type": "stream",
     "text": [
      "[18, 19]\n"
     ]
    }
   ],
   "source": [
    "import submission\n",
    "inputs = \"11110101111011\"\n",
    "b = 4\n",
    "result = submission.decode_rice(inputs, b)\n",
    "print(result)"
   ]
  }
 ],
 "metadata": {
  "kernelspec": {
   "display_name": "Python 3",
   "language": "python",
   "name": "python3"
  },
  "language_info": {
   "codemirror_mode": {
    "name": "ipython",
    "version": 3.0
   },
   "file_extension": ".py",
   "mimetype": "text/x-python",
   "name": "python",
   "nbconvert_exporter": "python",
   "pygments_lexer": "ipython3",
   "version": "3.4.5"
  }
 },
 "nbformat": 4,
 "nbformat_minor": 0
}